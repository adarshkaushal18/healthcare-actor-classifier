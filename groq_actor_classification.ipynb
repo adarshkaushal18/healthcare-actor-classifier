{
  "nbformat": 4,
  "nbformat_minor": 0,
  "metadata": {
    "colab": {
      "provenance": []
    },
    "kernelspec": {
      "name": "python3",
      "display_name": "Python 3"
    },
    "language_info": {
      "name": "python"
    }
  },
  "cells": [
    {
      "cell_type": "code",
      "execution_count": null,
      "metadata": {
        "colab": {
          "base_uri": "https://localhost:8080/"
        },
        "id": "3qFxbP09viK5",
        "outputId": "9615bd80-1e25-4450-a85b-b7e613bbfe12"
      },
      "outputs": [
        {
          "output_type": "stream",
          "name": "stdout",
          "text": [
            "Requirement already satisfied: groq in /usr/local/lib/python3.10/dist-packages (0.12.0)\n",
            "Requirement already satisfied: anyio<5,>=3.5.0 in /usr/local/lib/python3.10/dist-packages (from groq) (3.7.1)\n",
            "Requirement already satisfied: distro<2,>=1.7.0 in /usr/local/lib/python3.10/dist-packages (from groq) (1.9.0)\n",
            "Requirement already satisfied: httpx<1,>=0.23.0 in /usr/local/lib/python3.10/dist-packages (from groq) (0.27.2)\n",
            "Requirement already satisfied: pydantic<3,>=1.9.0 in /usr/local/lib/python3.10/dist-packages (from groq) (2.9.2)\n",
            "Requirement already satisfied: sniffio in /usr/local/lib/python3.10/dist-packages (from groq) (1.3.1)\n",
            "Requirement already satisfied: typing-extensions<5,>=4.7 in /usr/local/lib/python3.10/dist-packages (from groq) (4.12.2)\n",
            "Requirement already satisfied: idna>=2.8 in /usr/local/lib/python3.10/dist-packages (from anyio<5,>=3.5.0->groq) (3.10)\n",
            "Requirement already satisfied: exceptiongroup in /usr/local/lib/python3.10/dist-packages (from anyio<5,>=3.5.0->groq) (1.2.2)\n",
            "Requirement already satisfied: certifi in /usr/local/lib/python3.10/dist-packages (from httpx<1,>=0.23.0->groq) (2024.8.30)\n",
            "Requirement already satisfied: httpcore==1.* in /usr/local/lib/python3.10/dist-packages (from httpx<1,>=0.23.0->groq) (1.0.7)\n",
            "Requirement already satisfied: h11<0.15,>=0.13 in /usr/local/lib/python3.10/dist-packages (from httpcore==1.*->httpx<1,>=0.23.0->groq) (0.14.0)\n",
            "Requirement already satisfied: annotated-types>=0.6.0 in /usr/local/lib/python3.10/dist-packages (from pydantic<3,>=1.9.0->groq) (0.7.0)\n",
            "Requirement already satisfied: pydantic-core==2.23.4 in /usr/local/lib/python3.10/dist-packages (from pydantic<3,>=1.9.0->groq) (2.23.4)\n"
          ]
        }
      ],
      "source": [
        "!pip install groq"
      ]
    },
    {
      "cell_type": "code",
      "source": [
        "import pandas as pd\n",
        "import requests\n",
        "import numpy as np\n",
        "import os\n",
        "import concurrent.futures\n",
        "\n",
        "from groq import Groq\n",
        "from concurrent.futures import ThreadPoolExecutor, as_completed\n",
        "from sklearn.metrics import classification_report"
      ],
      "metadata": {
        "id": "BBS-z9o3vpLJ"
      },
      "execution_count": null,
      "outputs": []
    },
    {
      "cell_type": "code",
      "source": [
        "from google.colab import userdata"
      ],
      "metadata": {
        "id": "hKvrUuEIwIK5"
      },
      "execution_count": null,
      "outputs": []
    },
    {
      "cell_type": "code",
      "source": [
        "client = Groq(\n",
        "    api_key=userdata.get('GROQ_API_KEY'),\n",
        ")"
      ],
      "metadata": {
        "id": "USsjTJ_KkuYI"
      },
      "execution_count": null,
      "outputs": []
    },
    {
      "cell_type": "code",
      "source": [
        "# few-shot prompt for classification\n",
        "few_shot_prompt = \"\"\"\n",
        "Classify the following text into one of these categories:\n",
        "Healthcare Providers, Patients, Payers and Insurers, Pharmaceutical Representatives, Regulators.\n",
        "\n",
        "Examples:\n",
        "1. Text: \"The doctor prescribed a new medication for my condition.\"\n",
        "   Category: Healthcare Providers\n",
        "2. Text: \"I recently paid for my health insurance premium.\"\n",
        "   Category: Payers and Insurers\n",
        "3. Text: \"The FDA has approved a new drug for cancer treatment.\"\n",
        "   Category: Regulators\n",
        "4. Text: \"I am worried about my medication side effects.\"\n",
        "   Category: Patients\n",
        "5. Text: \"Our pharmaceutical company is releasing a new pain reliever.\"\n",
        "   Category: Pharmaceutical Representatives\n",
        "\n",
        "Classify this:\n",
        "Text: \"{text}\"\n",
        "Category:\n",
        "\"\"\""
      ],
      "metadata": {
        "id": "9Fy5D6GKn_Wl"
      },
      "execution_count": null,
      "outputs": []
    },
    {
      "cell_type": "code",
      "source": [
        "# classify text using the Groq API\n",
        "def classify_text_groq(input_text):\n",
        "    prompt = few_shot_prompt.format(text=input_text)\n",
        "\n",
        "    response = client.chat.completions.create(\n",
        "        model=\"llama3-8b-8192\",\n",
        "        messages=[\n",
        "            {\"role\": \"system\", \"content\": \"You are an expert text classifier.\"},\n",
        "            {\"role\": \"user\", \"content\": prompt}\n",
        "        ],\n",
        "        temperature=0.5,\n",
        "        max_tokens=100\n",
        "    )\n",
        "\n",
        "    output = response.choices[0].message.content.strip()\n",
        "    category = output.split(\"Category:\")[-1].strip()\n",
        "    return category"
      ],
      "metadata": {
        "id": "W_Qd0HHx4Z7E"
      },
      "execution_count": null,
      "outputs": []
    },
    {
      "cell_type": "code",
      "source": [
        "def classify_data_concurrently(data):\n",
        "    with concurrent.futures.ThreadPoolExecutor(max_workers=1) as executor:\n",
        "        results = list(executor.map(classify_text_groq, data[\"text\"]))\n",
        "\n",
        "    data[\"predicted_label\"] = results\n",
        "    return data"
      ],
      "metadata": {
        "id": "pohlGihjG9K8"
      },
      "execution_count": null,
      "outputs": []
    },
    {
      "cell_type": "code",
      "source": [
        "data = pd.read_csv(\"healthcare_actor_data_eval.csv\")\n",
        "\n",
        "labeled_data = classify_data_concurrently(data)\n",
        "\n",
        "labeled_data.to_csv(\"labeled_healthcare_data.csv\", index=False)\n",
        "\n",
        "print(labeled_data.head())"
      ],
      "metadata": {
        "id": "nNbrI_wlAdjK"
      },
      "execution_count": null,
      "outputs": []
    }
  ]
}